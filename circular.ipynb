{
 "cells": [
  {
   "cell_type": "markdown",
   "metadata": {},
   "source": [
    "### Observations about circular couplings"
   ]
  },
  {
   "cell_type": "markdown",
   "metadata": {},
   "source": [
    "1. Waiting for things to exactly meet is completely infeasible in some situations --- for example, the Glynn and Rhee example where $X_{n+1} = 1/2 X_n + \\text{Bern}(0.5)$, since the support of $X_{n+1}$ is completely determined by $X_n$. But they still get very close to each other."
   ]
  },
  {
   "cell_type": "markdown",
   "metadata": {},
   "source": [
    "- Could make the state space discrete\n",
    "- Could use smoothness of the $f$-function to argue that if they don't exactly meet, it's A-okay [contractive markov chains and lischpitz functions]"
   ]
  },
  {
   "cell_type": "markdown",
   "metadata": {},
   "source": [
    "- Use randomly chosen $N$ in circular couplings too"
   ]
  },
  {
   "cell_type": "markdown",
   "metadata": {},
   "source": [
    "- Start with how far off you want to be --- estimating a lischpitz function --- then this automatically determines a new discrete state space"
   ]
  },
  {
   "cell_type": "markdown",
   "metadata": {},
   "source": [
    "   - Need smoothness on $f$ and transition matrix: need to think carefully about how to construct the new transition matrix"
   ]
  },
  {
   "cell_type": "markdown",
   "metadata": {},
   "source": [
    "- Ising model"
   ]
  },
  {
   "cell_type": "markdown",
   "metadata": {},
   "source": [
    "### Problem set-up"
   ]
  },
  {
   "cell_type": "markdown",
   "metadata": {},
   "source": [
    "Suppose we have a kernel $K$ and a stationary distribution $\\pi$. We are interested in estimating\n",
    "\n",
    "$$\\mathbb{E}_{X \\sim \\pi}[f(X)].$$"
   ]
  },
  {
   "cell_type": "markdown",
   "metadata": {},
   "source": [
    "Two ways to formulate it:\n",
    "1. Find $\\pi^*$ such that $\\mathbb{E}_{X \\sim \\pi}[f(X)] \\approx \\mathbb{E}_{X \\sim \\pi'}[f(X)]$, but it's easy to sample from $pi'$. I don't like this formulation very much.\n",
    "\n",
    "\n",
    "2. Suppoes that there is a distance metric $d$ on the state space $\\Omega$ such that $f$ is continuous/Lischpitz/something with respect to $d$. \n",
    "\n",
    "As a really simple example, suppose $|f(x) - f(y)| < \\epsilon$ if $|x - y| < \\delta$. We will generate data $X^*$ such that there is a coupling where $|X - X^*| < \\delta$ and $X \\sim \\pi$. This implies $|f(X) - f(X^*)| < \\epsilon$."
   ]
  },
  {
   "cell_type": "markdown",
   "metadata": {},
   "source": [
    "### True DGP"
   ]
  },
  {
   "cell_type": "code",
   "execution_count": 1,
   "metadata": {
    "scrolled": true
   },
   "outputs": [
    {
     "name": "stdout",
     "output_type": "stream",
     "text": [
      "pi = [0.13953703 0.19482107 0.11068456 0.24536522 0.30959211]\n",
      "pi K = [0.13953703 0.19482107 0.11068456 0.24536522 0.30959211]\n",
      "K does seem to be pi-invariant!\n"
     ]
    }
   ],
   "source": [
    "### This code just generates pi and K.\n",
    "import numpy as np\n",
    "import scipy \n",
    "from scipy import stats \n",
    "import seaborn as sns\n",
    "import matplotlib.pyplot as plt\n",
    "\n",
    "np.random.seed(1234)\n",
    "d = 5\n",
    "\n",
    "## Generate random stochastic matrix\n",
    "K = np.eye(d)\n",
    "K = np.random.uniform(size=(d, d))\n",
    "K = K / K.sum(axis=1, keepdims=True)\n",
    "\n",
    "## Find invariant distribution pi (using convex solver)\n",
    "import cvxpy as cp\n",
    "pi = cp.Variable(d)\n",
    "constraints = [\n",
    "    cp.sum(pi) == 1,\n",
    "    pi <= 1,\n",
    "    pi >= 0,\n",
    "    pi @ K == pi\n",
    "]\n",
    "problem = cp.Problem(objective=cp.Maximize(1), constraints=constraints)\n",
    "problem.solve()\n",
    "pi = pi.value\n",
    "\n",
    "## Check invariant dist is correct\n",
    "assert np.abs(pi - np.dot(pi, K)).mean() < 1e-5\n",
    "print(\"pi =\", pi)\n",
    "print(\"pi K =\", np.dot(pi, K))\n",
    "print(\"K does seem to be pi-invariant!\")"
   ]
  },
  {
   "cell_type": "code",
   "execution_count": 2,
   "metadata": {},
   "outputs": [
    {
     "data": {
      "text/plain": [
       "array([[0.0679945 , 0.22086516, 0.15540499, 0.27882319, 0.27691216],\n",
       "       [0.08558635, 0.08680194, 0.25176512, 0.30082859, 0.27501801],\n",
       "       [0.1362995 , 0.1908387 , 0.26034421, 0.27148194, 0.14103565],\n",
       "       [0.20530199, 0.18404254, 0.0050369 , 0.28272259, 0.32289598],\n",
       "       [0.15476829, 0.2610235 , 0.03197335, 0.15643862, 0.39579624]])"
      ]
     },
     "execution_count": 2,
     "metadata": {},
     "output_type": "execute_result"
    }
   ],
   "source": [
    "K"
   ]
  },
  {
   "cell_type": "code",
   "execution_count": 3,
   "metadata": {},
   "outputs": [],
   "source": [
    "def sample_discrete_rvs(pi0, reps, seed):\n",
    "    \"\"\"\n",
    "    pi0 must be of shape (d, reps) or (d,) \n",
    "    \n",
    "    The seed determines the uniforms\n",
    "    \"\"\"\n",
    "    \n",
    "    # Cumsum\n",
    "    cumpi0 = np.cumsum(pi0, axis=0)\n",
    "    \n",
    "    # Sample uniforms and output\n",
    "    np.random.seed(seed)\n",
    "    unifs = np.random.uniform(size=(1, reps))\n",
    "    \n",
    "    # If 1-dimensional pi0, reshape to make 2d\n",
    "    if (len(cumpi0.shape) == 1):\n",
    "        cumpi0 = cumpi0.reshape(-1, 1)\n",
    "        \n",
    "    flags = unifs <= cumpi0 # d x reps\n",
    "    return np.argmax(flags, axis=0)"
   ]
  },
  {
   "cell_type": "code",
   "execution_count": 5,
   "metadata": {
    "scrolled": false
   },
   "outputs": [
    {
     "data": {
      "image/png": "[encoded data removed]",
      "text/plain": [
       "<Figure size 360x360 with 1 Axes>"
      ]
     },
     "metadata": {},
     "output_type": "display_data"
    }
   ],
   "source": [
    "class CircularCoupler():\n",
    "    \"\"\"\n",
    "    K : np.ndarray\n",
    "        Transition matrix\n",
    "    N : int\n",
    "        Number of samples\n",
    "    reps : int\n",
    "        Number of replications\n",
    "    \"\"\"\n",
    "    \n",
    "    def __init__(\n",
    "        self, \n",
    "        K, \n",
    "        N, \n",
    "        reps\n",
    "    ):\n",
    "        self.K = K\n",
    "        self.N = N\n",
    "        self.reps = reps\n",
    "        self.d = self.K.shape[0]\n",
    "        \n",
    "    def forward(self, pi0=None):\n",
    "        \"\"\"\n",
    "        pi0 : np.ndarray\n",
    "            initial distribution, sums to 1\n",
    "        \"\"\"\n",
    "        if pi0 is None:\n",
    "            pi0 = np.ones((self.d,))/self.d\n",
    "        \n",
    "        # reps-dimensional vector\n",
    "        x0s = sample_discrete_rvs(pi0, self.reps, seed=0)\n",
    "        \n",
    "        # transitions\n",
    "        self.xs = [x0s]\n",
    "        for j in range(self.N - 1):\n",
    "            self.xs.append(\n",
    "                sample_discrete_rvs(K[self.xs[-1]].T, self.reps, seed=j)\n",
    "            )\n",
    "        \n",
    "        # Make a numpy array\n",
    "        self.xs = np.array(self.xs)\n",
    "        return self.xs\n",
    "    \n",
    "    def backward(self):\n",
    "        \n",
    "        y0s = self.xs[-1]\n",
    "        self.ys = [y0s]\n",
    "        for j in range(self.N - 1):\n",
    "            self.ys.append(\n",
    "                sample_discrete_rvs(K[self.ys[-1]].T, self.reps, seed=j)\n",
    "            )\n",
    "        \n",
    "        self.ys = np.array(self.ys)\n",
    "        return self.ys\n",
    "    \n",
    "    def compute_estimates(self, pi, func=None):\n",
    "        \"\"\"\n",
    "        pi is the stationary distribution\n",
    "        \"\"\"\n",
    "        if func is None:\n",
    "            func = lambda x: x\n",
    "        func = np.vectorize(func)\n",
    "        \n",
    "        theta = np.sum(func(np.arange(d)) * pi)\n",
    "        converged = self.ys[-1] == self.xs[-1]\n",
    "        hatthetas = func(self.ys[:, converged]).mean(axis=0)\n",
    "        return hatthetas, theta\n",
    "        \n",
    "        \n",
    "\n",
    "### Actually run this\n",
    "sampler = CircularCoupler(K=K, N=105, reps=100)\n",
    "x = sampler.forward()\n",
    "y = sampler.backward()\n",
    "hatthetas, theta = sampler.compute_estimates(pi, func=None)\n",
    "sns.displot(hatthetas - theta)\n",
    "plt.show()"
   ]
  },
  {
   "cell_type": "code",
   "execution_count": 17,
   "metadata": {},
   "outputs": [
    {
     "data": {
      "image/png": "[encoded data removed]",
      "text/plain": [
       "<Figure size 360x360 with 1 Axes>"
      ]
     },
     "metadata": {},
     "output_type": "display_data"
    }
   ],
   "source": [
    "class ContractionCircularCoupler():\n",
    "    \"\"\"\n",
    "    K : np.ndarray\n",
    "        Transition matrix\n",
    "    N : int\n",
    "        Number of samples\n",
    "    reps : int\n",
    "        Number of replications\n",
    "    \"\"\"\n",
    "    \n",
    "    def __init__(\n",
    "        self, \n",
    "        N, \n",
    "        reps\n",
    "    ):\n",
    "        self.N = N\n",
    "        self.reps = reps\n",
    "        \n",
    "    def forward(self, x0s=None):\n",
    "        \"\"\"\n",
    "        pi0 : np.ndarray\n",
    "            initial distribution, sums to 1\n",
    "        \"\"\"\n",
    "        if x0s is None:\n",
    "            np.random.seed(0)\n",
    "            x0s = np.random.uniform(high=2.0, size=(self.reps,))\n",
    "        \n",
    "        # transitions\n",
    "        self.xs = [x0s]\n",
    "        for j in range(self.N - 1):\n",
    "            np.random.seed(j)\n",
    "            self.xs.append(\n",
    "                (self.xs[-1] + np.random.binomial(1, 0.5, size=(self.reps))) / 2.0\n",
    "            )\n",
    "        \n",
    "        # Make a numpy array\n",
    "        self.xs = np.array(self.xs)\n",
    "        return self.xs\n",
    "    \n",
    "    def backward(self):\n",
    "        \n",
    "        y0s = self.xs[-1]\n",
    "        self.ys = [y0s]\n",
    "        for j in range(self.N - 1):\n",
    "            np.random.seed(j)\n",
    "            self.ys.append(\n",
    "                (self.ys[-1] + np.random.binomial(1, 0.5, size=(self.reps))) / 2.0\n",
    "            )\n",
    "        \n",
    "        self.ys = np.array(self.ys)\n",
    "        return self.ys\n",
    "    \n",
    "    def compute_estimates(self, func=None):\n",
    "        \"\"\"\n",
    "        pi is the stationary distribution\n",
    "        \"\"\"\n",
    "        if func is None:\n",
    "            func = lambda x: x\n",
    "        func = np.vectorize(func)\n",
    "        \n",
    "        theta = np.sum(func(np.arange(0, 1, 0.05)) * 0.05)\n",
    "        converged = self.ys[-1] == self.xs[-1]\n",
    "        hatthetas = func(self.ys[:, converged]).mean(axis=0)\n",
    "        return hatthetas, theta\n",
    "        \n",
    "        \n",
    "\n",
    "### Actually run this\n",
    "sampler = ContractionCircularCoupler(N=105, reps=100)\n",
    "x = sampler.forward()\n",
    "y = sampler.backward()\n",
    "hatthetas, theta = sampler.compute_estimates(func=None)\n",
    "sns.displot(hatthetas - theta)\n",
    "plt.show()"
   ]
  },
  {
   "cell_type": "code",
   "execution_count": 16,
   "metadata": {},
   "outputs": [
    {
     "name": "stdout",
     "output_type": "stream",
     "text": [
      "[0.61073202 0.30536601 0.152683   0.0763415  0.03817075]\n",
      "[0.61073202 0.30536601 0.152683   0.0763415  0.03817075]\n",
      "[1.20552675 1.10276338 0.55138169 0.77569084 0.38784542]\n",
      "[0.03817075 0.51908538 0.25954269 0.62977134 0.31488567]\n"
     ]
    }
   ],
   "source": [
    "print(x[-5:,2])\n",
    "print( y[-5:,2])\n",
    "print(x[:5,2])\n",
    "print(y[:5,2])"
   ]
  },
  {
   "cell_type": "code",
   "execution_count": null,
   "metadata": {},
   "outputs": [],
   "source": []
  }
 ],
 "metadata": {
  "kernelspec": {
   "display_name": "Python 3",
   "language": "python",
   "name": "python3"
  },
  "language_info": {
   "codemirror_mode": {
    "name": "ipython",
    "version": 3
   },
   "file_extension": ".py",
   "mimetype": "text/x-python",
   "name": "python",
   "nbconvert_exporter": "python",
   "pygments_lexer": "ipython3",
   "version": "3.6.9"
  }
 },
 "nbformat": 4,
 "nbformat_minor": 2
}

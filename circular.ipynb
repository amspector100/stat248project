{
 "cells": [
  {
   "cell_type": "markdown",
   "metadata": {},
   "source": [
    "### Observations about circular couplings"
   ]
  },
  {
   "cell_type": "markdown",
   "metadata": {},
   "source": [
    "1. Waiting for things to exactly meet is completely infeasible in some situations --- for example, the Glynn and Rhee example where $X_{n+1} = 1/2 X_n + \\text{Bern}(0.5)$, since the support of $X_{n+1}$ is completely determined by $X_n$. But they still get very close to each other."
   ]
  },
  {
   "cell_type": "markdown",
   "metadata": {},
   "source": [
    "- Could make the state space discrete\n",
    "- Could use smoothness of the $f$-function to argue that if they don't exactly meet, it's A-okay [contractive markov chains and lischpitz functions]"
   ]
  },
  {
   "cell_type": "markdown",
   "metadata": {},
   "source": [
    "- Use randomly chosen $N$ in circular couplings too"
   ]
  },
  {
   "cell_type": "markdown",
   "metadata": {},
   "source": [
    "- Start with how far off you want to be --- estimating a lischpitz function --- then this automatically determines a new discrete state space"
   ]
  },
  {
   "cell_type": "markdown",
   "metadata": {},
   "source": [
    "   - Need smoothness on $f$ and transition matrix: need to think carefully about how to construct the new transition matrix"
   ]
  },
  {
   "cell_type": "markdown",
   "metadata": {},
   "source": [
    "- Ising model"
   ]
  },
  {
   "cell_type": "markdown",
   "metadata": {},
   "source": [
    "- Pierre's settings from his favorite paper"
   ]
  },
  {
   "cell_type": "markdown",
   "metadata": {},
   "source": [
    "![](nealmorework.png)"
   ]
  },
  {
   "cell_type": "markdown",
   "metadata": {},
   "source": [
    "For theory on this:\n",
    "    - Come up with a method for how to deal with convergence\n",
    "    - Analyze it empirically\n",
    "    - Maybe prove that it's better than something very naive/dumb"
   ]
  },
  {
   "cell_type": "markdown",
   "metadata": {},
   "source": [
    "What Asher shall do 04/30/201:\n",
    "1. Write up distance theorem in the most interesting way possible\n",
    "2. Look at the ising model/other examples from Pierre's favorite paper\n",
    "3. Think about why circular couplings are preferable to doing nothing/why they are preferable to other types of couplings"
   ]
  },
  {
   "cell_type": "markdown",
   "metadata": {},
   "source": [
    "For Romil:\n",
    "1. Plots of comparing circlar vs. naive markov chain (burn-in method)\n",
    "2. Understand what an Ising model is"
   ]
  },
  {
   "cell_type": "markdown",
   "metadata": {},
   "source": [
    "### Problem set-up"
   ]
  },
  {
   "cell_type": "markdown",
   "metadata": {},
   "source": [
    "Suppose we have a kernel $K$ and a stationary distribution $\\pi$. We are interested in estimating\n",
    "\n",
    "$$\\mathbb{E}_{X \\sim \\pi}[f(X)].$$"
   ]
  },
  {
   "cell_type": "markdown",
   "metadata": {},
   "source": [
    "Two ways to formulate it:\n",
    "1. Find $\\pi^*$ such that $\\mathbb{E}_{X \\sim \\pi}[f(X)] \\approx \\mathbb{E}_{X \\sim \\pi'}[f(X)]$, but it's easy to sample from $pi'$. I don't like this formulation very much.\n",
    "\n",
    "\n",
    "2. Suppoes that there is a distance metric $d$ on the state space $\\Omega$ such that $f$ is continuous/Lischpitz/something with respect to $d$. \n",
    "\n",
    "As a really simple example, suppose $|f(x) - f(y)| < \\epsilon$ if $|x - y| < \\delta$. We will generate data $X^*$ such that there is a coupling where $|X - X^*| < \\delta$ and $X \\sim \\pi$. This implies $|f(X) - f(X^*)| < \\epsilon$."
   ]
  },
  {
   "cell_type": "markdown",
   "metadata": {},
   "source": [
    "### True DGP"
   ]
  },
  {
   "cell_type": "code",
   "execution_count": 1,
   "metadata": {
    "scrolled": true
   },
   "outputs": [
    {
     "name": "stdout",
     "output_type": "stream",
     "text": [
      "pi = [0.13953703 0.19482107 0.11068456 0.24536522 0.30959211]\n",
      "pi K = [0.13953703 0.19482107 0.11068456 0.24536522 0.30959211]\n",
      "K does seem to be pi-invariant!\n"
     ]
    }
   ],
   "source": [
    "### This code just generates pi and K.\n",
    "import numpy as np\n",
    "import scipy \n",
    "from scipy import stats \n",
    "import seaborn as sns\n",
    "import matplotlib.pyplot as plt\n",
    "import pandas as pd\n",
    "\n",
    "np.random.seed(1234)\n",
    "d = 5\n",
    "\n",
    "## Generate random stochastic matrix\n",
    "K = np.eye(d)\n",
    "K = np.random.uniform(size=(d, d))\n",
    "K = K / K.sum(axis=1, keepdims=True)\n",
    "\n",
    "## Find invariant distribution pi (using convex solver)\n",
    "import cvxpy as cp\n",
    "pi = cp.Variable(d)\n",
    "constraints = [\n",
    "    cp.sum(pi) == 1,\n",
    "    pi <= 1,\n",
    "    pi >= 0,\n",
    "    pi @ K == pi\n",
    "]\n",
    "problem = cp.Problem(objective=cp.Maximize(1), constraints=constraints)\n",
    "problem.solve()\n",
    "pi = pi.value\n",
    "\n",
    "## Check invariant dist is correct\n",
    "assert np.abs(pi - np.dot(pi, K)).mean() < 1e-5\n",
    "print(\"pi =\", pi)\n",
    "print(\"pi K =\", np.dot(pi, K))\n",
    "print(\"K does seem to be pi-invariant!\")"
   ]
  },
  {
   "cell_type": "code",
   "execution_count": 2,
   "metadata": {},
   "outputs": [
    {
     "data": {
      "text/plain": [
       "array([[0.0679945 , 0.22086516, 0.15540499, 0.27882319, 0.27691216],\n",
       "       [0.08558635, 0.08680194, 0.25176512, 0.30082859, 0.27501801],\n",
       "       [0.1362995 , 0.1908387 , 0.26034421, 0.27148194, 0.14103565],\n",
       "       [0.20530199, 0.18404254, 0.0050369 , 0.28272259, 0.32289598],\n",
       "       [0.15476829, 0.2610235 , 0.03197335, 0.15643862, 0.39579624]])"
      ]
     },
     "execution_count": 2,
     "metadata": {},
     "output_type": "execute_result"
    }
   ],
   "source": [
    "K"
   ]
  },
  {
   "cell_type": "code",
   "execution_count": 3,
   "metadata": {},
   "outputs": [],
   "source": [
    "def sample_discrete_rvs(pi0, reps, seed):\n",
    "    \"\"\"\n",
    "    pi0 must be of shape (d, reps) or (d,) \n",
    "    \n",
    "    The seed determines the uniforms\n",
    "    \"\"\"\n",
    "    \n",
    "    # Cumsum\n",
    "    cumpi0 = np.cumsum(pi0, axis=0)\n",
    "    \n",
    "    # Sample uniforms and output\n",
    "    np.random.seed(seed)\n",
    "    unifs = np.random.uniform(size=(1, reps))\n",
    "    \n",
    "    # If 1-dimensional pi0, reshape to make 2d\n",
    "    if (len(cumpi0.shape) == 1):\n",
    "        cumpi0 = cumpi0.reshape(-1, 1)\n",
    "        \n",
    "    flags = unifs <= cumpi0 # d x reps\n",
    "    return np.argmax(flags, axis=0)"
   ]
  },
  {
   "cell_type": "code",
   "execution_count": 6,
   "metadata": {
    "scrolled": false
   },
   "outputs": [
    {
     "name": "stdout",
     "output_type": "stream",
     "text": [
      "1.49\n"
     ]
    },
    {
     "data": {
      "image/png": "[encoded data removed]",
      "text/plain": [
       "<Figure size 360x360 with 1 Axes>"
      ]
     },
     "metadata": {},
     "output_type": "display_data"
    },
    {
     "name": "stdout",
     "output_type": "stream",
     "text": [
      "Auxiliary diagonstic statistic:  0.12 Value of k:  50\n"
     ]
    }
   ],
   "source": [
    "class CircularCoupler():\n",
    "    \"\"\"\n",
    "    K : np.ndarray\n",
    "        Transition matrix\n",
    "    N : int\n",
    "        Number of samples\n",
    "    reps : int\n",
    "        Number of replications\n",
    "    \"\"\"\n",
    "    \n",
    "    def __init__(\n",
    "        self, \n",
    "        K, \n",
    "        N, \n",
    "        reps\n",
    "    ):\n",
    "        self.K = K\n",
    "        self.N = N\n",
    "        self.reps = reps\n",
    "        self.d = self.K.shape[0]\n",
    "        \n",
    "    def forward(self, pi0=None):\n",
    "        \"\"\"\n",
    "        pi0 : np.ndarray\n",
    "            initial distribution, sums to 1\n",
    "        \"\"\"\n",
    "        if pi0 is None:\n",
    "            pi0 = np.ones((self.d,))/self.d\n",
    "        self.pi0 = pi0\n",
    "        \n",
    "        # reps-dimensional vector\n",
    "        x0s = sample_discrete_rvs(pi0, self.reps, seed=0)\n",
    "        \n",
    "        # transitions\n",
    "        self.xs = [x0s]\n",
    "        for j in range(self.N - 1):\n",
    "            self.xs.append(\n",
    "                sample_discrete_rvs(K[self.xs[-1]].T, self.reps, seed=j)\n",
    "            )\n",
    "        \n",
    "        # Make a numpy array\n",
    "        self.xs = np.array(self.xs)\n",
    "        return self.xs\n",
    "    \n",
    "    def backward(self):\n",
    "        \n",
    "        y0s = self.xs[-1]\n",
    "        self.ys = [y0s]\n",
    "        for j in range(self.N - 1):\n",
    "            self.ys.append(\n",
    "                sample_discrete_rvs(K[self.ys[-1]].T, self.reps, seed=j)\n",
    "            )\n",
    "        \n",
    "        self.ys = np.array(self.ys)\n",
    "        \n",
    "        # TODO: Find a quicker way to do this\n",
    "        convergence_times = np.array(pd.DataFrame(np.where(self.ys.T == self.xs.T)).T.groupby(0).min())\n",
    "        return self.ys, convergence_times\n",
    "    \n",
    "    def compute_estimates(self, pi, func=None):\n",
    "        \"\"\"\n",
    "        pi is the stationary distribution\n",
    "        \"\"\"\n",
    "        if func is None:\n",
    "            func = lambda x: x\n",
    "        func = np.vectorize(func)\n",
    "        \n",
    "        theta = np.sum(func(np.arange(d)) * pi)\n",
    "        converged = self.ys[-1] == self.xs[-1]\n",
    "        hatthetas = func(self.ys[:, converged]).mean(axis=0)\n",
    "        return hatthetas, theta\n",
    "    \n",
    "    def auxiliary_diagnostics(self, k, r): # r must divide N\n",
    "        cis = []\n",
    "        for i in range(0, r):\n",
    "            s = i*self.N // r\n",
    "            # reps-dimensional vector\n",
    "            zis = sample_discrete_rvs(self.pi0, 1, seed=0)\n",
    "            ci = 0\n",
    "            for t in range(s+1, s+k+1):\n",
    "                tnew = t % self.N\n",
    "                if zis != self.ys[t-1,0]:\n",
    "                    break\n",
    "                ci += 1\n",
    "                zis = sample_discrete_rvs(K[zis].T, 1, seed=t)\n",
    "            cis.append(ci)\n",
    "        return cis\n",
    "        \n",
    "\n",
    "### Actually run this\n",
    "sampler = CircularCoupler(K=K, N=105, reps=100)\n",
    "# Run with reps=1000 for t-test\n",
    "x = sampler.forward()\n",
    "y, convergence_times = sampler.backward()\n",
    "print(np.mean(convergence_times))\n",
    "hatthetas, theta = sampler.compute_estimates(pi, func=None)\n",
    "plot = sns.displot(hatthetas - theta)\n",
    "plot.set_axis_labels(\"Difference\", \"Density\")\n",
    "plot.axis.set_title(\"Emprical vs. Theoretical Mean (Circular)\")\n",
    "plt.show()\n",
    "circular_differences = np.abs(hatthetas-theta)\n",
    "print(\"Auxiliary diagonstic statistic: \", np.mean(sampler.auxiliary_diagnostics(50, 100)),\n",
    "      \"Value of k: \", 50\n",
    "     )"
   ]
  },
  {
   "cell_type": "code",
   "execution_count": 7,
   "metadata": {},
   "outputs": [
    {
     "data": {
      "image/png": "[encoded data removed]",
      "text/plain": [
       "<Figure size 360x360 with 1 Axes>"
      ]
     },
     "metadata": {},
     "output_type": "display_data"
    },
    {
     "data": {
      "text/plain": [
       "Ttest_indResult(statistic=-0.2308370384524572, pvalue=0.8176798586040565)"
      ]
     },
     "execution_count": 7,
     "metadata": {},
     "output_type": "execute_result"
    }
   ],
   "source": [
    "class SequentialSampler():\n",
    "    \"\"\"\n",
    "    K : np.ndarray\n",
    "        Transition matrix\n",
    "    N : int\n",
    "        Number of samples\n",
    "    burn_in : int\n",
    "        Number of samples to discard\n",
    "    reps : int\n",
    "        Number of replications\n",
    "    \"\"\"\n",
    "    \n",
    "    def __init__(\n",
    "        self, \n",
    "        K, \n",
    "        N,\n",
    "        burn_in,\n",
    "        reps\n",
    "    ):\n",
    "        self.K = K\n",
    "        self.N = N\n",
    "        self.burn_in = burn_in\n",
    "        self.reps = reps\n",
    "        self.d = self.K.shape[0]\n",
    "        \n",
    "    def forward(self, pi0=None):\n",
    "        \"\"\"\n",
    "        pi0 : np.ndarray\n",
    "            initial distribution, sums to 1\n",
    "        \"\"\"\n",
    "        if pi0 is None:\n",
    "            pi0 = np.ones((self.d,))/self.d\n",
    "        \n",
    "        # reps-dimensional vector\n",
    "        x0s = sample_discrete_rvs(pi0, self.reps, seed=0)\n",
    "        \n",
    "        # transitions\n",
    "        self.xs = [x0s]\n",
    "        for j in range(self.N - 1 + self.burn_in):\n",
    "            self.xs.append(\n",
    "                sample_discrete_rvs(K[self.xs[-1]].T, self.reps, seed=j)\n",
    "            )\n",
    "        \n",
    "        # Make a numpy array\n",
    "        self.xs = np.array(self.xs)\n",
    "        return self.xs[self.burn_in,:]\n",
    "    \n",
    "    def compute_estimates(self, pi, func=None):\n",
    "        \"\"\"\n",
    "        pi is the stationary distribution\n",
    "        \"\"\"\n",
    "        if func is None:\n",
    "            func = lambda x: x\n",
    "        func = np.vectorize(func)\n",
    "        \n",
    "        theta = np.sum(func(np.arange(d)) * pi)\n",
    "        #converged = self.ys[-1] == self.xs[-1]\n",
    "        hatthetas = func(self.xs[:]).mean(axis=0)\n",
    "        return hatthetas, theta\n",
    "        \n",
    "\n",
    "### Actually run this\n",
    "sampler = SequentialSampler(K=K, N=105,\n",
    "                          burn_in=int(round(np.mean(convergence_times))),\n",
    "                          reps=100) # Run with reps=1000 for t-test\n",
    "x = sampler.forward()\n",
    "hatthetas, theta = sampler.compute_estimates(pi, func=None)\n",
    "sns.displot(hatthetas - theta)\n",
    "plot.set_axis_labels(\"Difference\", \"Density\")\n",
    "plot.axis.set_title(\"Emprical vs. Theoretical Mean (Sequential)\")\n",
    "plt.show()\n",
    "sequential_differences = np.abs(hatthetas-theta)\n",
    "stats.ttest_ind(circular_differences, sequential_differences,\n",
    "                equal_var=False)"
   ]
  },
  {
   "cell_type": "code",
   "execution_count": 16,
   "metadata": {},
   "outputs": [
    {
     "name": "stdout",
     "output_type": "stream",
     "text": [
      "100 of the 100 circular chains converged\n"
     ]
    },
    {
     "data": {
      "image/png": "[encoded data removed]",
      "text/plain": [
       "<Figure size 360x360 with 1 Axes>"
      ]
     },
     "metadata": {},
     "output_type": "display_data"
    }
   ],
   "source": [
    "class ContractionCircularCoupler():\n",
    "    \"\"\"\n",
    "    N : int\n",
    "        Number of samples\n",
    "    reps : int\n",
    "        Number of replications\n",
    "    \"\"\"\n",
    "    \n",
    "    def __init__(\n",
    "        self, \n",
    "        N, \n",
    "        reps\n",
    "    ):\n",
    "        self.N = N\n",
    "        self.reps = reps\n",
    "        \n",
    "    def forward(self, x0s=None):\n",
    "        \"\"\"\n",
    "        pi0 : np.ndarray\n",
    "            initial distribution, sums to 1\n",
    "        \"\"\"\n",
    "        if x0s is None:\n",
    "            np.random.seed(0)\n",
    "            x0s = stats.beta.rvs(a=1, b=5, size=(self.reps,))\n",
    "            #x0s = np.random.uniform(high=2.0, size=(self.reps,))\n",
    "        \n",
    "        # transitions\n",
    "        self.xs = [x0s]\n",
    "        for j in range(self.N - 1):\n",
    "            np.random.seed(j)\n",
    "            self.xs.append(\n",
    "                (self.xs[-1] / 2.0 + np.random.binomial(1, 0.5, size=(self.reps)))\n",
    "            )\n",
    "        \n",
    "        # Make a numpy array\n",
    "        self.xs = np.array(self.xs)\n",
    "        return self.xs\n",
    "    \n",
    "    def backward(self):\n",
    "        \n",
    "        y0s = self.xs[-1]\n",
    "        self.ys = [y0s]\n",
    "        for j in range(self.N - 1):\n",
    "            np.random.seed(j)\n",
    "            self.ys.append(\n",
    "                (self.ys[-1] / 2.0 + np.random.binomial(1, 0.5, size=(self.reps)))\n",
    "            )\n",
    "        \n",
    "        self.ys = np.array(self.ys)\n",
    "        return self.ys\n",
    "    \n",
    "    def compute_estimates(self, func=None):\n",
    "        \"\"\"\n",
    "        pi is the stationary distribution\n",
    "        \"\"\"\n",
    "        if func is None:\n",
    "            func = lambda x: x\n",
    "        func = np.vectorize(func)\n",
    "        \n",
    "        theta = np.sum(func(np.arange(0, 1, 1/self.N)) * 1/self.N)\n",
    "        converged = self.ys[-1] == self.xs[-1]\n",
    "        if converged.sum() == 0:\n",
    "            raise ValueError(\"None of the circular chains converged\")\n",
    "        else:\n",
    "            print(f\"{int(converged.sum())} of the {self.reps} circular chains converged\")\n",
    "        hatthetas = func(self.ys[:, converged]).mean(axis=0)\n",
    "        return hatthetas, theta\n",
    "        \n",
    "        \n",
    "\n",
    "### Actually run this\n",
    "sampler = ContractionCircularCoupler(N=100, reps=100)\n",
    "x = sampler.forward()\n",
    "y = sampler.backward()\n",
    "hatthetas, theta = sampler.compute_estimates(func=None)\n",
    "sns.displot(hatthetas - theta)\n",
    "plt.show()"
   ]
  },
  {
   "cell_type": "code",
   "execution_count": 17,
   "metadata": {
    "scrolled": true
   },
   "outputs": [
    {
     "name": "stdout",
     "output_type": "stream",
     "text": [
      "100 of the 100 circular chains converged\n",
      "0.12491344444444442\n"
     ]
    },
    {
     "data": {
      "text/plain": [
       "<seaborn.axisgrid.FacetGrid at 0x7f73eb0644a8>"
      ]
     },
     "execution_count": 17,
     "metadata": {},
     "output_type": "execute_result"
    },
    {
     "data": {
      "image/png": "[encoded data removed]",
      "text/plain": [
       "<Figure size 360x360 with 1 Axes>"
      ]
     },
     "metadata": {},
     "output_type": "display_data"
    },
    {
     "data": {
      "image/png": "[encoded data removed]",
      "text/plain": [
       "<Figure size 360x360 with 1 Axes>"
      ]
     },
     "metadata": {},
     "output_type": "display_data"
    },
    {
     "data": {
      "image/png": "[encoded data removed]",
      "text/plain": [
       "<Figure size 402.25x360 with 1 Axes>"
      ]
     },
     "metadata": {},
     "output_type": "display_data"
    }
   ],
   "source": [
    "class BetterContractionCircularCoupler(ContractionCircularCoupler):\n",
    "    \"\"\"\n",
    "    N : int\n",
    "        Number of samples\n",
    "    reps : int\n",
    "        Number of replications\n",
    "    \"\"\"\n",
    "    \n",
    "    def __init__(\n",
    "        self, \n",
    "        N, \n",
    "        reps,\n",
    "        dec=3\n",
    "    ):\n",
    "        self.N = N\n",
    "        self.reps = reps\n",
    "        self.dec = dec\n",
    "        \n",
    "    def sample_next(self, seed, xprev):\n",
    "        \"\"\"\n",
    "        Sample the next value\n",
    "        \"\"\"\n",
    "        np.random.seed(seed)\n",
    "        # Add noise to previous x\n",
    "        width = 10**(-self.dec)\n",
    "        xprevtilde = xprev + np.random.uniform(\n",
    "            low=-width/2, high=width/2, size=(self.reps)\n",
    "        )\n",
    "        # Follow the initial chain\n",
    "        ystar = xprevtilde/2.0 + np.random.binomial(1, 0.5, size=(self.reps))\n",
    "        # Round\n",
    "        return np.around(ystar, self.dec)\n",
    "        \n",
    "    def forward(self, x0s=None):\n",
    "        \"\"\"\n",
    "        pi0 : np.ndarray\n",
    "            initial distribution, sums to 1\n",
    "        \"\"\"\n",
    "        if x0s is None:\n",
    "            np.random.seed(0)\n",
    "            x0s = stats.beta.rvs(a=1, b=5, size=(self.reps,))\n",
    "            #x0s = np.random.uniform(high=2.0, size=(self.reps,))\n",
    "        \n",
    "        # transitions\n",
    "        self.xs = [np.around(x0s, self.dec)]\n",
    "        for j in range(self.N - 1):\n",
    "            # Sample and append\n",
    "            xnext = self.sample_next(\n",
    "                seed=j, xprev=self.xs[-1]\n",
    "            )\n",
    "            self.xs.append(xnext)\n",
    "        \n",
    "        # Make a numpy array\n",
    "        self.xs = np.array(self.xs)\n",
    "        return self.xs\n",
    "    \n",
    "    def backward(self):\n",
    "        \n",
    "        y0s = self.xs[-1]\n",
    "        self.ys = [y0s]\n",
    "        for j in range(self.N - 1):\n",
    "            ynext = self.sample_next(\n",
    "                seed=j, xprev=self.ys[-1]\n",
    "            )\n",
    "            self.ys.append(ynext)\n",
    "        \n",
    "        self.ys = np.array(self.ys)\n",
    "        convergence_times = np.array(pd.DataFrame(np.where(self.ys.T == self.xs.T)).T.groupby(0).min())\n",
    "        return self.ys, convergence_times\n",
    "    \n",
    "    def compute_estimates(self, func=None):\n",
    "        \"\"\"\n",
    "        pi is the stationary distribution\n",
    "        \"\"\"\n",
    "        if func is None:\n",
    "            func = lambda x: x\n",
    "        func = np.vectorize(func)\n",
    "        \n",
    "        theta = np.sum(func(np.arange(0, 2, 1/50)) * 1/100)\n",
    "        converged = self.ys[-1] == self.xs[-1]\n",
    "        if converged.sum() == 0:\n",
    "            raise ValueError(\"None of the circular chains converged\")\n",
    "        else:\n",
    "            print(f\"{int(converged.sum())} of the {self.reps} circular chains converged\")\n",
    "        hatthetas = func(self.ys[:, converged]).mean(axis=0)\n",
    "        return hatthetas, theta\n",
    "        \n",
    "        \n",
    "\n",
    "### Actually run this\n",
    "sampler = BetterContractionCircularCoupler(N=45, reps=100, dec=4)\n",
    "x = sampler.forward()\n",
    "y, convergence_times = sampler.backward()\n",
    "hatthetas, theta = sampler.compute_estimates(func=None)\n",
    "sns.displot(hatthetas - theta)\n",
    "print(np.mean(np.abs(hatthetas-theta)))\n",
    "sns.displot(y.reshape(-1))\n",
    "#plt.show()\n",
    "sns.displot(convergence_times)"
   ]
  },
  {
   "cell_type": "code",
   "execution_count": 18,
   "metadata": {},
   "outputs": [
    {
     "data": {
      "text/plain": [
       "[<matplotlib.lines.Line2D at 0x7f73eae76ef0>]"
      ]
     },
     "execution_count": 18,
     "metadata": {},
     "output_type": "execute_result"
    },
    {
     "data": {
      "image/png": "[encoded data removed]",
      "text/plain": [
       "<Figure size 432x288 with 1 Axes>"
      ]
     },
     "metadata": {},
     "output_type": "display_data"
    }
   ],
   "source": [
    "class SequentialContractionCoupler():\n",
    "    \"\"\"\n",
    "    N : int\n",
    "        Number of samples\n",
    "    reps : int\n",
    "        Number of replications\n",
    "    \"\"\"\n",
    "    \n",
    "    def __init__(\n",
    "        self, \n",
    "        N, \n",
    "        reps,\n",
    "        burn_in\n",
    "    ):\n",
    "        self.N = N\n",
    "        self.reps = reps\n",
    "        self.burn_in = burn_in\n",
    "        \n",
    "    def sample_next(self, seed, xprev):\n",
    "        \"\"\"\n",
    "        Sample the next value\n",
    "        \"\"\"\n",
    "        np.random.seed(seed)\n",
    "        ystar = xprev/2.0 + np.random.binomial(1, 0.5, size=(self.reps))\n",
    "        # Round\n",
    "        return ystar\n",
    "        \n",
    "    def forward(self, x0s=None):\n",
    "        \"\"\"\n",
    "        pi0 : np.ndarray\n",
    "            initial distribution, sums to 1\n",
    "        \"\"\"\n",
    "        if x0s is None:\n",
    "            np.random.seed(0)\n",
    "            x0s = stats.beta.rvs(a=1, b=5, size=(self.reps,))\n",
    "            #x0s = np.random.uniform(high=2.0, size=(self.reps,))\n",
    "        \n",
    "        # transitions\n",
    "        self.xs = [x0s]\n",
    "        for j in range(self.N - 1  + max(self.burn_in)):\n",
    "            # Sample and append\n",
    "            xnext = self.sample_next(\n",
    "                seed=j, xprev=self.xs[-1]\n",
    "            )\n",
    "            self.xs.append(xnext)\n",
    "        \n",
    "        # Make a numpy array\n",
    "        self.xs = np.array(self.xs)\n",
    "        return self.xs[max(self.burn_in):,]\n",
    "    \n",
    "    def compute_estimates(self, func=None):\n",
    "        \"\"\"\n",
    "        pi is the stationary distribution\n",
    "        \"\"\"\n",
    "        if func is None:\n",
    "            func = lambda x: x\n",
    "        func = np.vectorize(func)\n",
    "        \n",
    "        theta = np.sum(func(np.arange(0, 2, 1/50)) * 1/100)\n",
    "        hatthetas = []\n",
    "        for b in self.burn_in:\n",
    "            hatthetas.append(func(self.xs[b:b+self.N,]).mean(axis=0))\n",
    "        return hatthetas, theta\n",
    "        \n",
    "        \n",
    "\n",
    "### Actually run this\n",
    "burn_in = [i for i in range(0, 100, 5)]\n",
    "sampler = SequentialContractionCoupler(N=45, reps=1000, burn_in=burn_in)\n",
    "x = sampler.forward()\n",
    "hatthetas, theta = sampler.compute_estimates(func=None)\n",
    "bias = []\n",
    "for b in range(len(burn_in)):\n",
    "    bias.append(np.mean(np.abs(hatthetas[b] - theta)))\n",
    "plt.plot(burn_in, bias)\n",
    "#plt.show()\n"
   ]
  },
  {
   "cell_type": "code",
   "execution_count": 124,
   "metadata": {},
   "outputs": [
    {
     "name": "stdout",
     "output_type": "stream",
     "text": [
      "10 of the 10 circular chains converged\n"
     ]
    },
    {
     "ename": "TypeError",
     "evalue": "cannot unpack non-iterable NoneType object",
     "output_type": "error",
     "traceback": [
      "\u001b[0;31m---------------------------------------------------------------------------\u001b[0m",
      "\u001b[0;31mTypeError\u001b[0m                                 Traceback (most recent call last)",
      "\u001b[0;32m<ipython-input-124-e7c8ad12143d>\u001b[0m in \u001b[0;36m<module>\u001b[0;34m\u001b[0m\n\u001b[1;32m    110\u001b[0m \u001b[0mx\u001b[0m \u001b[0;34m=\u001b[0m \u001b[0msampler\u001b[0m\u001b[0;34m.\u001b[0m\u001b[0mforward\u001b[0m\u001b[0;34m(\u001b[0m\u001b[0;34m)\u001b[0m\u001b[0;34m\u001b[0m\u001b[0;34m\u001b[0m\u001b[0m\n\u001b[1;32m    111\u001b[0m \u001b[0my\u001b[0m \u001b[0;34m=\u001b[0m \u001b[0msampler\u001b[0m\u001b[0;34m.\u001b[0m\u001b[0mbackward\u001b[0m\u001b[0;34m(\u001b[0m\u001b[0;34m)\u001b[0m\u001b[0;34m\u001b[0m\u001b[0;34m\u001b[0m\u001b[0m\n\u001b[0;32m--> 112\u001b[0;31m \u001b[0mhatthetas\u001b[0m\u001b[0;34m,\u001b[0m \u001b[0mtheta\u001b[0m \u001b[0;34m=\u001b[0m \u001b[0msampler\u001b[0m\u001b[0;34m.\u001b[0m\u001b[0mcompute_estimates\u001b[0m\u001b[0;34m(\u001b[0m\u001b[0mfunc\u001b[0m\u001b[0;34m=\u001b[0m\u001b[0;32mNone\u001b[0m\u001b[0;34m)\u001b[0m\u001b[0;34m\u001b[0m\u001b[0;34m\u001b[0m\u001b[0m\n\u001b[0m\u001b[1;32m    113\u001b[0m \u001b[0msns\u001b[0m\u001b[0;34m.\u001b[0m\u001b[0mdisplot\u001b[0m\u001b[0;34m(\u001b[0m\u001b[0mhatthetas\u001b[0m \u001b[0;34m-\u001b[0m \u001b[0mtheta\u001b[0m\u001b[0;34m)\u001b[0m\u001b[0;34m\u001b[0m\u001b[0;34m\u001b[0m\u001b[0m\n\u001b[1;32m    114\u001b[0m \u001b[0msns\u001b[0m\u001b[0;34m.\u001b[0m\u001b[0mdisplot\u001b[0m\u001b[0;34m(\u001b[0m\u001b[0my\u001b[0m\u001b[0;34m.\u001b[0m\u001b[0mreshape\u001b[0m\u001b[0;34m(\u001b[0m\u001b[0;34m-\u001b[0m\u001b[0;36m1\u001b[0m\u001b[0;34m)\u001b[0m\u001b[0;34m)\u001b[0m\u001b[0;34m\u001b[0m\u001b[0;34m\u001b[0m\u001b[0m\n",
      "\u001b[0;31mTypeError\u001b[0m: cannot unpack non-iterable NoneType object"
     ]
    }
   ],
   "source": [
    "class IsingCircularCoupler():\n",
    "    \"\"\"\n",
    "    N : int\n",
    "        Number of samples\n",
    "    reps : int\n",
    "        Number of replications\n",
    "    D : int\n",
    "        Size of Ising grid\n",
    "    theta : float\n",
    "        heat parameter theta\n",
    "    \"\"\"\n",
    "    \n",
    "    def __init__(\n",
    "        self, \n",
    "        N, \n",
    "        reps,\n",
    "        D\n",
    "    ):\n",
    "        self.N = N\n",
    "        self.reps = reps\n",
    "        self.D = D\n",
    "        self.theta = theta\n",
    "        \n",
    "    def sample_next(self, seed, xprev):\n",
    "        \"\"\"\n",
    "        Gibbs sample\n",
    "        \n",
    "        xprev : D x D grid of values in (1, -1)\n",
    "        \"\"\"\n",
    "        # Set seed and generate order for gibbs samples\n",
    "        np.random.seed(seed)\n",
    "        xinds = np.arange(self.D)\n",
    "        np.random.shuffle(xinds)\n",
    "        yinds = np.arange(self.D)\n",
    "        np.random.shuffle(yinds)\n",
    "        \n",
    "        # Initialize output\n",
    "        xnext = np.zeros((self.D, self.D, self.reps))\n",
    "        \n",
    "        # Loop through and do Gibbs sample\n",
    "        for i in xinds:\n",
    "            for j in yinds:\n",
    "                sni = xprev[(i + 1) % self.D, j] +\\\n",
    "                      xprev[i, (j + 1) % self.D] +\\\n",
    "                      xprev[(i - 1) % self.D, j] +\\\n",
    "                      xprev[i, (j - 1) % self.D]\n",
    "                prob1 = np.exp(theta * sni) / (np.exp(theta * sni) + np.exp(-theta * sni))\n",
    "                xnext[i, j] = 2*np.random.binomial(1, prob1) - 1\n",
    "                \n",
    "        return xnext\n",
    "\n",
    "        \n",
    "    def forward(self, x0s=None):\n",
    "        \"\"\"\n",
    "        pi0 : np.ndarray\n",
    "            initial distribution, sums to 1\n",
    "        \"\"\"\n",
    "        if x0s is None:\n",
    "            np.random.seed(0)\n",
    "            x0s = 1 - 2*np.random.binomial(1, 0.5, size=(self.D, self.D, self.reps))\n",
    "        \n",
    "        # transitions\n",
    "        self.xs = [x0s]\n",
    "        for j in range(self.N - 1):\n",
    "            # Sample and append\n",
    "            xnext = self.sample_next(\n",
    "                seed=j, xprev=self.xs[-1]\n",
    "            )\n",
    "            self.xs.append(xnext)\n",
    "        \n",
    "        # Make a numpy array\n",
    "        self.xs = np.array(self.xs)\n",
    "        return self.xs\n",
    "    \n",
    "    def backward(self):\n",
    "        \n",
    "        y0s = self.xs[-1]\n",
    "        self.ys = [y0s]\n",
    "        for j in range(self.N - 1):\n",
    "            ynext = self.sample_next(\n",
    "                seed=j, xprev=self.ys[-1]\n",
    "            )\n",
    "            self.ys.append(ynext)\n",
    "        \n",
    "        self.ys = np.array(self.ys)\n",
    "        convergence_times = np.array(pd.DataFrame(np.where(self.ys.T == self.xs.T)).T.groupby(0).min())\n",
    "        return self.ys\n",
    "    \n",
    "    def compute_estimates(self, func=None):\n",
    "        \"\"\"\n",
    "        pi is the stationary distribution\n",
    "        \"\"\"\n",
    "        if func is None:\n",
    "            func = lambda x: x\n",
    "        func = np.vectorize(func)\n",
    "        \n",
    "        #theta = np.sum(func(np.arange(0, 1, 1/self.N)) * 1/self.N)\n",
    "        converged = self.ys[-1].reshape(-1, self.reps) == self.xs[-1].reshape(-1, self.reps)\n",
    "        converged = np.all(converged, axis=0)\n",
    "        if converged.sum() == 0:\n",
    "            raise ValueError(\"None of the circular chains converged\")\n",
    "        else:\n",
    "            print(f\"{int(converged.sum())} of the {self.reps} circular chains converged\")\n",
    "        #hatthetas = func(self.ys[:, converged]).mean(axis=0)\n",
    "        #return hatthetas, theta\n",
    "        \n",
    "        \n",
    "\n",
    "### Actually run this\n",
    "sampler = IsingCircularCoupler(N=10000, reps=10, D=3)\n",
    "x = sampler.forward()\n",
    "y = sampler.backward()\n",
    "hatthetas, theta = sampler.compute_estimates(func=None)\n",
    "sns.displot(hatthetas - theta)\n",
    "sns.displot(y.reshape(-1))\n",
    "#plt.show()"
   ]
  },
  {
   "cell_type": "code",
   "execution_count": 88,
   "metadata": {},
   "outputs": [
    {
     "data": {
      "text/plain": [
       "4"
      ]
     },
     "execution_count": 88,
     "metadata": {},
     "output_type": "execute_result"
    }
   ],
   "source": [
    "4 % 5"
   ]
  },
  {
   "cell_type": "code",
   "execution_count": 85,
   "metadata": {},
   "outputs": [
    {
     "ename": "IndexError",
     "evalue": "index 10 is out of bounds for axis 0 with size 10",
     "output_type": "error",
     "traceback": [
      "\u001b[0;31m---------------------------------------------------------------------------\u001b[0m",
      "\u001b[0;31mIndexError\u001b[0m                                Traceback (most recent call last)",
      "\u001b[0;32m<ipython-input-85-98fa22083824>\u001b[0m in \u001b[0;36m<module>\u001b[0;34m\u001b[0m\n\u001b[1;32m      1\u001b[0m \u001b[0mx\u001b[0m \u001b[0;34m=\u001b[0m \u001b[0mnp\u001b[0m\u001b[0;34m.\u001b[0m\u001b[0mzeros\u001b[0m\u001b[0;34m(\u001b[0m\u001b[0;34m(\u001b[0m\u001b[0;36m10\u001b[0m\u001b[0;34m,\u001b[0m \u001b[0;36m10\u001b[0m\u001b[0;34m)\u001b[0m\u001b[0;34m)\u001b[0m\u001b[0;34m\u001b[0m\u001b[0;34m\u001b[0m\u001b[0m\n\u001b[0;32m----> 2\u001b[0;31m \u001b[0mx\u001b[0m\u001b[0;34m[\u001b[0m\u001b[0;36m10\u001b[0m\u001b[0;34m]\u001b[0m\u001b[0;34m\u001b[0m\u001b[0;34m\u001b[0m\u001b[0m\n\u001b[0m",
      "\u001b[0;31mIndexError\u001b[0m: index 10 is out of bounds for axis 0 with size 10"
     ]
    }
   ],
   "source": [
    "x = np.zeros((10, 10))\n",
    "x[10]"
   ]
  }
 ],
 "metadata": {
  "kernelspec": {
   "display_name": "Python 3",
   "language": "python",
   "name": "python3"
  },
  "language_info": {
   "codemirror_mode": {
    "name": "ipython",
    "version": 3
   },
   "file_extension": ".py",
   "mimetype": "text/x-python",
   "name": "python",
   "nbconvert_exporter": "python",
   "pygments_lexer": "ipython3",
   "version": "3.6.9"
  }
 },
 "nbformat": 4,
 "nbformat_minor": 2
}

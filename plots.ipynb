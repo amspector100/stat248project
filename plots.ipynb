{
 "cells": [
  {
   "cell_type": "code",
   "execution_count": 1,
   "metadata": {},
   "outputs": [],
   "source": [
    "import utils\n",
    "import circular\n",
    "import unbiasedmcmc as umcmc\n",
    "\n",
    "import numpy as np\n",
    "import time"
   ]
  },
  {
   "cell_type": "markdown",
   "metadata": {},
   "source": [
    "#### Discrete Chains"
   ]
  },
  {
   "cell_type": "code",
   "execution_count": 2,
   "metadata": {
    "scrolled": true
   },
   "outputs": [
    {
     "name": "stdout",
     "output_type": "stream",
     "text": [
      "At iteration=100, 100.0% of the chains are converged\n",
      "At iteration=200, 100.0% of the chains are converged\n",
      "Breaking at iteration=200\n"
     ]
    }
   ],
   "source": [
    "N = 200\n",
    "reps = 100000\n",
    "pi, K = utils.generate_discrete_chain(d=12, seed=1234)\n",
    "\n",
    "## Discrete Circular Coupler\n",
    "# coupler = circular.DiscreteCircularCoupler(N, reps, K)\n",
    "# x = coupler.forward()\n",
    "# y = coupler.backward()\n",
    "\n",
    "ucoupler = umcmc.DiscreteUMCMC(m=N, reps=reps, K=K)\n",
    "ucoupler.sample_all(verbose=True)"
   ]
  },
  {
   "cell_type": "code",
   "execution_count": 3,
   "metadata": {},
   "outputs": [
    {
     "name": "stdout",
     "output_type": "stream",
     "text": [
      "5.558930766537651 5.569015294068409\n"
     ]
    }
   ],
   "source": [
    "est = ucoupler.compute_Hkm(k=2).mean()\n",
    "std = ucoupler.compute_Hkm(k=2).std() / np.sqrt(10000)\n",
    "print(est - 2*std, est + 2*std)"
   ]
  },
  {
   "cell_type": "code",
   "execution_count": 4,
   "metadata": {},
   "outputs": [
    {
     "data": {
      "text/plain": [
       "5.56480738081578"
      ]
     },
     "execution_count": 4,
     "metadata": {},
     "output_type": "execute_result"
    }
   ],
   "source": [
    "np.sum(np.arange(12) * pi)"
   ]
  },
  {
   "cell_type": "code",
   "execution_count": 5,
   "metadata": {
    "scrolled": true
   },
   "outputs": [
    {
     "data": {
      "text/plain": [
       "array([[[ 7.,  7.,  4., ..., 11.,  9.,  0.]],\n",
       "\n",
       "       [[ 6., 11., 10., ...,  0.,  4.,  5.]],\n",
       "\n",
       "       [[ 8.,  9.,  5., ..., 11.,  4.,  2.]],\n",
       "\n",
       "       ...,\n",
       "\n",
       "       [[ 5., 11.,  4., ...,  0.,  8.,  1.]],\n",
       "\n",
       "       [[ 7., 11.,  7., ...,  4.,  6.,  7.]],\n",
       "\n",
       "       [[11.,  3.,  7., ...,  9.,  3.,  0.]]])"
      ]
     },
     "execution_count": 5,
     "metadata": {},
     "output_type": "execute_result"
    }
   ],
   "source": [
    "ucoupler.xs"
   ]
  },
  {
   "cell_type": "markdown",
   "metadata": {},
   "source": [
    "#### Contractive Chains"
   ]
  },
  {
   "cell_type": "code",
   "execution_count": 6,
   "metadata": {},
   "outputs": [
    {
     "name": "stdout",
     "output_type": "stream",
     "text": [
      "[57. 54. 50. ... 59. 52. 54.]\n",
      "11.0688\n",
      "0.022304857228863852\n",
      "[58. 55. 57. ... 48. 53. 52.]\n",
      "10.9511\n",
      "0.02650039394046813\n"
     ]
    }
   ],
   "source": [
    "import numpy as np\n",
    "reps = 10000\n",
    "\n",
    "coupler = circular.ContractiveCircularCoupler(N, reps)\n",
    "x = coupler.forward()\n",
    "y = coupler.backward()\n",
    "print(coupler.convergence_times())\n",
    "\n",
    "\n",
    "coupler = circular.ApprxContractiveCircularCoupler(N, reps, dec=3)\n",
    "x = coupler.forward()\n",
    "y = coupler.backward()\n",
    "print(coupler.convergence_times().mean())\n",
    "print(coupler.convergence_times().std() / np.sqrt(reps))\n",
    "\n",
    "ucoupler = umcmc.ContractiveUMCMC(N, reps)\n",
    "ucoupler.sample_all()\n",
    "print(ucoupler.taus)\n",
    "\n",
    "ucoupler = umcmc.ApprxContractiveUMCMC(N, reps)\n",
    "ucoupler.sample_all()\n",
    "print(ucoupler.taus.mean())\n",
    "print(ucoupler.taus.std() / np.sqrt(reps))\n"
   ]
  },
  {
   "cell_type": "markdown",
   "metadata": {},
   "source": [
    "#### Ising"
   ]
  },
  {
   "cell_type": "code",
   "execution_count": 4,
   "metadata": {},
   "outputs": [
    {
     "data": {
      "text/plain": [
       "array([107.,  78., 247., 106., 171., 240., 116., 234., 225., 114., 207.,\n",
       "        86., 117., 158., 158., 347., 122.,  98.,  86., 247., 135.,  68.,\n",
       "       211., 117., 134.,  99., 218., 135.,  83., 258., 157., 106.,  89.,\n",
       "        79., 240., 250., 103., 180., 121.,  79., 101., 219., 115., 113.,\n",
       "       145., 117., 144., 173.,  78., 370., 212., 181., 172., 141., 242.,\n",
       "       305., 259., 152., 129., 149.,  87., 216., 217.,  37., 144., 123.,\n",
       "       436., 138.,  47., 147., 166., 221., 108.,  65., 166., 212., 163.,\n",
       "       212., 429.,  79., 298., 178., 331., 121., 250., 255., 136., 211.,\n",
       "       393.,  54., 284., 200., 178., 141., 135., 149., 264., 133.,  71.,\n",
       "       147.])"
      ]
     },
     "execution_count": 4,
     "metadata": {},
     "output_type": "execute_result"
    }
   ],
   "source": [
    "N = 1000\n",
    "reps = 100\n",
    "D = 32\n",
    "ccoupler = circular.IsingCircularCoupler(N, reps, D, theta=0.4)\n",
    "x = ccoupler.forward()\n",
    "#print(\"Finished forward\")\n",
    "y = ccoupler.backward()\n",
    "#print(\"Finished backward\")\n",
    "ccoupler.convergence_times()"
   ]
  },
  {
   "cell_type": "code",
   "execution_count": 6,
   "metadata": {},
   "outputs": [
    {
     "data": {
      "text/plain": [
       "1131.06704"
      ]
     },
     "execution_count": 6,
     "metadata": {},
     "output_type": "execute_result"
    }
   ],
   "source": [
    "utils.ising_statistic(x).mean()"
   ]
  },
  {
   "cell_type": "code",
   "execution_count": 10,
   "metadata": {},
   "outputs": [
    {
     "name": "stdout",
     "output_type": "stream",
     "text": [
      "At iteration=100, 33.0% of the chains are converged\n",
      "At iteration=200, 77.0% of the chains are converged\n",
      "At iteration=300, 91.0% of the chains are converged\n",
      "At iteration=400, 97.0% of the chains are converged\n",
      "At iteration=500, 98.0% of the chains are converged\n",
      "At iteration=600, 99.0% of the chains are converged\n",
      "At iteration=700, 99.0% of the chains are converged\n",
      "At iteration=800, 100.0% of the chains are converged\n",
      "At iteration=900, 100.0% of the chains are converged\n",
      "At iteration=1000, 100.0% of the chains are converged\n",
      "Breaking at iteration=1000\n"
     ]
    }
   ],
   "source": [
    "np.random.seed(123)\n",
    "time0 = time.time()\n",
    "coupler = umcmc.IsingUMCMC(m=N, reps=reps, D=D, theta=0.4)\n",
    "coupler.sample_all(verbose=True)"
   ]
  },
  {
   "cell_type": "code",
   "execution_count": 11,
   "metadata": {},
   "outputs": [],
   "source": [
    "tstats = coupler.compute_Hkm(k=100, h=utils.ising_statistic)"
   ]
  },
  {
   "cell_type": "code",
   "execution_count": 15,
   "metadata": {
    "scrolled": false
   },
   "outputs": [
    {
     "data": {
      "text/plain": [
       "1172.4509777777778"
      ]
     },
     "execution_count": 15,
     "metadata": {},
     "output_type": "execute_result"
    }
   ],
   "source": [
    "# import seaborn as sns\n",
    "# print(tstats.shape)\n",
    "# sns.displot(tstats)\n",
    "tstats.mean()"
   ]
  },
  {
   "cell_type": "code",
   "execution_count": 126,
   "metadata": {},
   "outputs": [],
   "source": [
    "one_ising = coupler.xs[-1][:].reshape(1, D**2, -1)\n",
    "onestat = utils.ising_statistic(one_ising)"
   ]
  },
  {
   "cell_type": "code",
   "execution_count": 127,
   "metadata": {},
   "outputs": [
    {
     "data": {
      "text/plain": [
       "array([[ -92.,  -36.,    8., -136., -148.,  172.,  -84.,   24.,   -4.,\n",
       "          40.,    0.,   56.,  -16.,  -68., -184.,   68.,    8.,  124.,\n",
       "         -96.,  140.,    0.,   76.,  104.,  -64., -152.,   76.,   24.,\n",
       "          -4.,   16.,   80.,   60.,    8.,  228.,  -48.,  -28.,  -92.,\n",
       "         -28.,  -76.,  -64.,   20.,  -60.,  120., -116.,   96., -140.,\n",
       "         -16.,  -52.,  -48.,   84.,  -16.,    8.,    8.,  -40.,  104.,\n",
       "          32.,  -12., -128.,   -4.,   16.,   32., -136.,  104.,  -56.,\n",
       "        -112.,  -36.,   28.,   80.,    4.,    4.,    0.,   96.,    0.,\n",
       "          28.,   24.,   28.,  -60.,  -32.,   28.,   36.,    8.,   80.,\n",
       "           8.,   44.,  -20.,   24.,    4.,  -72.,   48.,  -56.,  -24.,\n",
       "          32.,    4.,   -8., -132.,  -64.,   12.,   72.,   80.,  112.,\n",
       "          12.]])"
      ]
     },
     "execution_count": 127,
     "metadata": {},
     "output_type": "execute_result"
    }
   ],
   "source": [
    "onestat"
   ]
  },
  {
   "cell_type": "code",
   "execution_count": 128,
   "metadata": {},
   "outputs": [
    {
     "data": {
      "text/plain": [
       "<AxesSubplot:>"
      ]
     },
     "execution_count": 128,
     "metadata": {},
     "output_type": "execute_result"
    },
    {
     "data": {
      "image/png": "[encoded data removed]",
      "text/plain": [
       "<Figure size 432x288 with 2 Axes>"
      ]
     },
     "metadata": {
      "needs_background": "light"
     },
     "output_type": "display_data"
    }
   ],
   "source": [
    "grid = coupler.xs[-1][:, -1].reshape(D, D)\n",
    "sns.heatmap(grid)"
   ]
  },
  {
   "cell_type": "code",
   "execution_count": 130,
   "metadata": {},
   "outputs": [
    {
     "data": {
      "text/plain": [
       "-0.28"
      ]
     },
     "execution_count": 130,
     "metadata": {},
     "output_type": "execute_result"
    }
   ],
   "source": [
    "onestat.mean()"
   ]
  },
  {
   "cell_type": "code",
   "execution_count": null,
   "metadata": {},
   "outputs": [],
   "source": []
  },
  {
   "cell_type": "code",
   "execution_count": 61,
   "metadata": {},
   "outputs": [
    {
     "data": {
      "text/plain": [
       "array([[-20.]])"
      ]
     },
     "execution_count": 61,
     "metadata": {},
     "output_type": "execute_result"
    }
   ],
   "source": []
  },
  {
   "cell_type": "code",
   "execution_count": null,
   "metadata": {},
   "outputs": [],
   "source": []
  }
 ],
 "metadata": {
  "kernelspec": {
   "display_name": "Python 3.9",
   "language": "python",
   "name": "python3.9"
  },
  "language_info": {
   "codemirror_mode": {
    "name": "ipython",
    "version": 3
   },
   "file_extension": ".py",
   "mimetype": "text/x-python",
   "name": "python",
   "nbconvert_exporter": "python",
   "pygments_lexer": "ipython3",
   "version": "3.9.4"
  }
 },
 "nbformat": 4,
 "nbformat_minor": 2
}
